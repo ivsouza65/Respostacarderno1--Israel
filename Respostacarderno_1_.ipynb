{
  "nbformat": 4,
  "nbformat_minor": 0,
  "metadata": {
    "colab": {
      "provenance": []
    },
    "kernelspec": {
      "name": "python3",
      "display_name": "Python 3"
    },
    "language_info": {
      "name": "python"
    }
  },
  "cells": [
    {
      "cell_type": "code",
      "execution_count": null,
      "metadata": {
        "colab": {
          "base_uri": "https://localhost:8080/"
        },
        "id": "yP6Rd50raUJ8",
        "outputId": "80cfb1f7-10a6-46f5-be2c-94d2162a4bb2"
      },
      "outputs": [
        {
          "output_type": "stream",
          "name": "stdout",
          "text": [
            "[1, 2, 3]\n",
            "[4, 5, 6]\n",
            "[7, 8, 9]\n",
            "[10, 11, 12]\n"
          ]
        }
      ],
      "source": [
        "matriz_4x3 = \"[1, 2, 3]\\n[4, 5, 6]\\n[7, 8, 9]\\n[10, 11, 12]\"\n",
        "print(matriz_4x3)"
      ]
    },
    {
      "cell_type": "code",
      "source": [
        "#Comentando os dois tipos de váriaveis em função\n",
        "print(\"Tipo 1 - Locais: São definidas dentro de uma função e só podem ser acessadas dentro dessa função.\")\n",
        "print(\"Tipo 2 - Globais: São definidas fora de qualquer função e podem ser acessadas de qualquer parte do programa.\")"
      ],
      "metadata": {
        "id": "Z4QdfOx5biCS",
        "outputId": "eefae1ba-8e4c-46a6-8354-2ec6bd6d4184",
        "colab": {
          "base_uri": "https://localhost:8080/"
        }
      },
      "execution_count": null,
      "outputs": [
        {
          "output_type": "stream",
          "name": "stdout",
          "text": [
            "Tipo 1 - Locais: São definidas dentro de uma função e só podem ser acessadas dentro dessa função.\n",
            "Tipo 2 - Globais: São definidas fora de qualquer função e podem ser acessadas de qualquer parte do programa.\n"
          ]
        }
      ]
    }
  ]
}