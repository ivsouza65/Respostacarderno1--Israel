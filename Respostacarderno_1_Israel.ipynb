{
  "nbformat": 4,
  "nbformat_minor": 0,
  "metadata": {
    "colab": {
      "provenance": []
    },
    "kernelspec": {
      "name": "python3",
      "display_name": "Python 3"
    },
    "language_info": {
      "name": "python"
    }
  },
  "cells": [
    {
      "cell_type": "code",
      "execution_count": null,
      "metadata": {
        "colab": {
          "base_uri": "https://localhost:8080/"
        },
        "id": "DbqtjmOICxKr",
        "outputId": "b99c69fc-1219-4e71-a8be-719ad4aeeae2"
      },
      "outputs": [
        {
          "output_type": "stream",
          "name": "stdout",
          "text": [
            "Python é alto nível\n",
            "Python é fortemente tipada!\n",
            "Python é multiparadigma!\n",
            "Python é interpretada!\n",
            "É Case Sensitive!\n"
          ]
        }
      ],
      "source": [
        "#Crie cinco print( ) cada um mostrando uma característica importante da linguagem Python\n",
        "\n",
        "print(\"Python é alto nível\")\n",
        "print(\"Python é fortemente tipada!\")\n",
        "print(\"Python é multiparadigma!\")\n",
        "print(\"Python é interpretada!\")\n",
        "print(\"É Case Sensitive!\")"
      ]
    },
    {
      "cell_type": "code",
      "source": [
        "print(\"Estou Aprendendo Python\")\n",
        "print(\"Estou Aprendendo Python\")\n",
        "print(\"Estou Aprendendo Python\")\n",
        "print(\"Estou Aprendendo Python\")\n",
        "print(\"Estou Aprendendo Python\")"
      ],
      "metadata": {
        "colab": {
          "base_uri": "https://localhost:8080/"
        },
        "id": "L4OhvC6VJnmc",
        "outputId": "3a5890f1-72b0-416e-fb5d-83df9b262b62"
      },
      "execution_count": null,
      "outputs": [
        {
          "output_type": "stream",
          "name": "stdout",
          "text": [
            "Estou Aprendendo Python\n",
            "Estou Aprendendo Python\n",
            "Estou Aprendendo Python\n",
            "Estou Aprendendo Python\n",
            "Estou Aprendendo Python\n"
          ]
        }
      ]
    },
    {
      "cell_type": "code",
      "source": [
        "print(\"Python \\n Maravilha\")"
      ],
      "metadata": {
        "colab": {
          "base_uri": "https://localhost:8080/"
        },
        "id": "Y5pBnMCsJqej",
        "outputId": "0663efd2-2136-441d-b7c7-76964d71f0a8"
      },
      "execution_count": null,
      "outputs": [
        {
          "output_type": "stream",
          "name": "stdout",
          "text": [
            "Python \n",
            " Maravilha\n"
          ]
        }
      ]
    },
    {
      "cell_type": "code",
      "source": [
        "print(\"Python pode usar \\t tabulação!\")"
      ],
      "metadata": {
        "colab": {
          "base_uri": "https://localhost:8080/"
        },
        "id": "jAys269sKtdT",
        "outputId": "662697ba-9d07-4b9d-c3fc-6b44b72f100c"
      },
      "execution_count": null,
      "outputs": [
        {
          "output_type": "stream",
          "name": "stdout",
          "text": [
            "Python pode usar \t tabulação!\n"
          ]
        }
      ]
    },
    {
      "cell_type": "code",
      "source": [
        "print(\"No Python equivale \\r um enter\")"
      ],
      "metadata": {
        "colab": {
          "base_uri": "https://localhost:8080/"
        },
        "id": "DK8c-SWLK-nj",
        "outputId": "3403f26f-80c7-48d7-9de0-d7281342da5e"
      },
      "execution_count": null,
      "outputs": [
        {
          "output_type": "stream",
          "name": "stdout",
          "text": [
            "No Python equivale \r um enter\n"
          ]
        }
      ]
    },
    {
      "cell_type": "code",
      "source": [
        "print(\"Imprima o \\'\")"
      ],
      "metadata": {
        "colab": {
          "base_uri": "https://localhost:8080/"
        },
        "id": "vbJ9K88FLKKL",
        "outputId": "fcc8c5aa-e254-44b1-ecc6-2b3bd521a031"
      },
      "execution_count": null,
      "outputs": [
        {
          "output_type": "stream",
          "name": "stdout",
          "text": [
            "Imprima o '\n"
          ]
        }
      ]
    },
    {
      "cell_type": "code",
      "source": [
        "print(\"Python é uma \",end=\"#####\")\n",
        "print(\" Maravilha!\")"
      ],
      "metadata": {
        "colab": {
          "base_uri": "https://localhost:8080/"
        },
        "id": "VikGVIY9LeXL",
        "outputId": "805e474c-e7ee-4e6c-826c-134efee61689"
      },
      "execution_count": null,
      "outputs": [
        {
          "output_type": "stream",
          "name": "stdout",
          "text": [
            "Python é uma ##### Maravilha!\n"
          ]
        }
      ]
    },
    {
      "cell_type": "code",
      "source": [
        "print(\"A\",\"B\",\"C\",0,sep=\"*\")"
      ],
      "metadata": {
        "colab": {
          "base_uri": "https://localhost:8080/"
        },
        "id": "nyC-TXmjLuHF",
        "outputId": "774ac902-3a70-40fe-c4c6-af7318b9968b"
      },
      "execution_count": null,
      "outputs": [
        {
          "output_type": "stream",
          "name": "stdout",
          "text": [
            "A*B*C*0\n"
          ]
        }
      ]
    },
    {
      "cell_type": "code",
      "source": [
        "print(\"A\",\"B\",\"C\",0,sep=\"\\n\")"
      ],
      "metadata": {
        "colab": {
          "base_uri": "https://localhost:8080/"
        },
        "id": "OHyp1sqIL3_P",
        "outputId": "8e462e09-e402-4b8c-ce5f-9c40e8343dd7"
      },
      "execution_count": null,
      "outputs": [
        {
          "output_type": "stream",
          "name": "stdout",
          "text": [
            "A\n",
            "B\n",
            "C\n",
            "0\n"
          ]
        }
      ]
    },
    {
      "cell_type": "code",
      "source": [
        "print(\"    *\")\n",
        "print(\"   ***\")\n",
        "print(\"  *****\")\n",
        "print(\" ********\")\n",
        "print(\"**********\")\n",
        "print(\"   ||||\")"
      ],
      "metadata": {
        "colab": {
          "base_uri": "https://localhost:8080/"
        },
        "id": "8KywOH8GMWD7",
        "outputId": "02ec0b49-9b38-449c-c64c-00a80ab4aaa1"
      },
      "execution_count": null,
      "outputs": [
        {
          "output_type": "stream",
          "name": "stdout",
          "text": [
            "    *\n",
            "   ***\n",
            "  *****\n",
            " ********\n",
            "**********\n",
            "   ||||\n"
          ]
        }
      ]
    },
    {
      "cell_type": "code",
      "source": [
        "#Listrar os tipos de dados conforme valres das variáveis\n",
        "\n",
        "x=1\n",
        "y=2.0\n",
        "soma = 5+5\n",
        "nome =\"Rômulo\"\n",
        "sobrenome = 'Cesar'\n",
        "ligado = True\n",
        "\n",
        "print(f\"{x},{y},{soma},{nome},{sobrenome},{ligado}\")\n",
        "print(f\"{type(x)},{type(y)},{type(soma)},{type(nome)},{type(sobrenome)},{type(ligado)}\")"
      ],
      "metadata": {
        "colab": {
          "base_uri": "https://localhost:8080/"
        },
        "id": "fKRbOfFiNPXU",
        "outputId": "3876daef-11d1-4e73-8a2a-fc4bf7221d2e"
      },
      "execution_count": null,
      "outputs": [
        {
          "output_type": "stream",
          "name": "stdout",
          "text": [
            "1,2.0,10,Rômulo,Cesar,True\n",
            "(type(x)),<class 'float'>,<class 'int'>,<class 'str'>,<class 'str'>,<class 'bool'>\n"
          ]
        }
      ]
    },
    {
      "cell_type": "code",
      "source": [
        "nome = 10 #é um tipo string?\n",
        "romulo = 45 #é um string?\n",
        "desligado = \"sim\" #é um tipo string?\n",
        "\n",
        "print(type(nome))\n",
        "print(type(romulo))\n",
        "print(type(desligado))"
      ],
      "metadata": {
        "colab": {
          "base_uri": "https://localhost:8080/"
        },
        "id": "UFR3VVdrPCtW",
        "outputId": "80d00cbc-5582-41d1-a7a4-5ec45b4e6381"
      },
      "execution_count": null,
      "outputs": [
        {
          "output_type": "stream",
          "name": "stdout",
          "text": [
            "<class 'int'>\n",
            "<class 'int'>\n",
            "<class 'str'>\n"
          ]
        }
      ]
    },
    {
      "cell_type": "code",
      "source": [
        "PI = 3.14159205358979323846\n",
        "\n",
        "print(f\"O valor de π é aproximadamente {PI:.2f}\")\n"
      ],
      "metadata": {
        "colab": {
          "base_uri": "https://localhost:8080/"
        },
        "id": "xswz-JleQFnV",
        "outputId": "0fadefc3-798d-40f8-df6d-5c0d8913d0f9"
      },
      "execution_count": null,
      "outputs": [
        {
          "output_type": "stream",
          "name": "stdout",
          "text": [
            "O valor de π é aproximadamente 3.14\n"
          ]
        }
      ]
    },
    {
      "cell_type": "code",
      "source": [
        "# Criando a variável delta com o valor -40\n",
        "delta = -40\n",
        "\n",
        "# Verificando se delta é maior ou menor que zero\n",
        "if delta > 0:\n",
        "    print(f\"O valor de delta ({delta}) é maior que zero.\")\n",
        "elif delta < 0:\n",
        "    print(f\"O valor de delta ({delta}) é menor que zero.\")\n",
        "else:\n",
        "    print(f\"O valor de delta ({delta}) é igual a zero.\")\n"
      ],
      "metadata": {
        "colab": {
          "base_uri": "https://localhost:8080/"
        },
        "id": "XroKzPDNREaF",
        "outputId": "dcc4e482-2ade-42c8-b4ae-4dc540483b02"
      },
      "execution_count": null,
      "outputs": [
        {
          "output_type": "stream",
          "name": "stdout",
          "text": [
            "O valor de delta (-40) é menor que zero.\n"
          ]
        }
      ]
    }
  ]
}